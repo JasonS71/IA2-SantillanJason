{
  "nbformat": 4,
  "nbformat_minor": 0,
  "metadata": {
    "colab": {
      "provenance": []
    },
    "kernelspec": {
      "name": "python3",
      "display_name": "Python 3"
    },
    "language_info": {
      "name": "python"
    }
  },
  "cells": [
    {
      "cell_type": "markdown",
      "source": [
        "# Preparación de Datos"
      ],
      "metadata": {
        "id": "VQu7SKm4F8LN"
      }
    },
    {
      "cell_type": "code",
      "execution_count": null,
      "metadata": {
        "ExecuteTime": {
          "end_time": "2020-08-15T09:21:50.890591Z",
          "start_time": "2020-08-15T09:21:49.757500Z"
        },
        "id": "dBjrRIWLVThY"
      },
      "outputs": [],
      "source": [
        "import torch\n",
        "import numpy as np"
      ]
    },
    {
      "cell_type": "code",
      "source": [
        "from google.colab import drive\n",
        "drive.mount('/content/drive')"
      ],
      "metadata": {
        "colab": {
          "base_uri": "https://localhost:8080/"
        },
        "id": "vUSA6U9_JpDf",
        "outputId": "799f1acf-1a8d-4e0a-c576-f4940269dc87"
      },
      "execution_count": null,
      "outputs": [
        {
          "output_type": "stream",
          "name": "stdout",
          "text": [
            "Drive already mounted at /content/drive; to attempt to forcibly remount, call drive.mount(\"/content/drive\", force_remount=True).\n"
          ]
        }
      ]
    },
    {
      "cell_type": "code",
      "execution_count": null,
      "metadata": {
        "ExecuteTime": {
          "end_time": "2020-08-15T10:36:52.518442Z",
          "start_time": "2020-08-15T10:36:34.168232Z"
        },
        "hidden": true,
        "id": "Z9RXi2ZcVThn"
      },
      "outputs": [],
      "source": [
        "# from sklearn.datasets import fetch_openml\n",
        "\n",
        "# mnist = fetch_openml('mnist_784', version=1)\n",
        "# X, Y = mnist[\"data\"], mnist[\"target\"]\n",
        "\n",
        "# X.shape, Y.shape\n",
        "\n",
        "from sklearn.datasets import fetch_openml\n",
        "import pandas as pd\n",
        "\n",
        "mnist = pd.read_csv(\"/content/drive/MyDrive/Datasets/emnist-digits-train.csv\")"
      ]
    },
    {
      "cell_type": "code",
      "source": [
        "# X mayuscula y Y mayuscula contienen los datos de entrenamiento\n",
        "# o también X_train y Y_train que contienen exactamente lo mismo\n",
        "X = mnist.iloc[:, 1:].values\n",
        "Y = mnist.iloc[:, 0].values.ravel()"
      ],
      "metadata": {
        "id": "Gpi57f9-J5CE"
      },
      "execution_count": null,
      "outputs": []
    },
    {
      "cell_type": "code",
      "source": [
        "# X=X.to_numpy()\n",
        "# Y=Y.to_numpy()\n",
        "mnist.info()"
      ],
      "metadata": {
        "id": "hH2zUh9RoSjN",
        "colab": {
          "base_uri": "https://localhost:8080/"
        },
        "outputId": "bd998a24-b85f-42e2-d311-43f734f8b4c9"
      },
      "execution_count": null,
      "outputs": [
        {
          "output_type": "stream",
          "name": "stdout",
          "text": [
            "<class 'pandas.core.frame.DataFrame'>\n",
            "RangeIndex: 239999 entries, 0 to 239998\n",
            "Columns: 785 entries, 8 to 0.520\n",
            "dtypes: int64(785)\n",
            "memory usage: 1.4 GB\n"
          ]
        }
      ]
    },
    {
      "cell_type": "code",
      "execution_count": null,
      "metadata": {
        "ExecuteTime": {
          "end_time": "2020-08-15T10:36:52.922971Z",
          "start_time": "2020-08-15T10:36:52.520331Z"
        },
        "hidden": true,
        "id": "PdX57eYMVThn",
        "outputId": "ee058dc0-ccf6-4bbd-8e16-8a3cff3d87c7",
        "colab": {
          "base_uri": "https://localhost:8080/",
          "height": 608
        }
      },
      "outputs": [
        {
          "output_type": "display_data",
          "data": {
            "text/plain": [
              "<Figure size 1000x600 with 15 Axes>"
            ],
            "image/png": "[encoded data removed]"
          },
          "metadata": {}
        }
      ],
      "source": [
        "%matplotlib inline\n",
        "\n",
        "import matplotlib as mpl\n",
        "import matplotlib.pyplot as plt\n",
        "import random\n",
        "\n",
        "r, c = 3, 5\n",
        "fig = plt.figure(figsize=(2*c, 2*r))\n",
        "for _r in range(r):\n",
        "    for _c in range(c):\n",
        "        plt.subplot(r, c, _r*c + _c + 1)\n",
        "        ix = random.randint(0, len(X)-1)\n",
        "        img = X[ix]\n",
        "        plt.imshow(img.reshape(28,28), cmap='gray')\n",
        "        plt.axis(\"off\")\n",
        "        plt.title(Y[ix])\n",
        "plt.tight_layout()\n",
        "plt.show()"
      ]
    },
    {
      "cell_type": "code",
      "execution_count": null,
      "metadata": {
        "ExecuteTime": {
          "end_time": "2020-08-15T10:36:53.069808Z",
          "start_time": "2020-08-15T10:36:52.923969Z"
        },
        "hidden": true,
        "id": "qAeyaLAtVThn",
        "colab": {
          "base_uri": "https://localhost:8080/"
        },
        "outputId": "4f6de380-e386-473e-8356-ca00f29f5a74"
      },
      "outputs": [
        {
          "output_type": "stream",
          "name": "stderr",
          "text": [
            "<ipython-input-159-7ffa63d83b46>:2: DeprecationWarning: `np.int` is a deprecated alias for the builtin `int`. To silence this warning, use `int` by itself. Doing this will not modify any behavior and is safe. When replacing `np.int`, you may wish to use e.g. `np.int64` or `np.int32` to specify the precision. If you wish to review your current use, check the release note link for additional information.\n",
            "Deprecated in NumPy 1.20; for more details and guidance: https://numpy.org/devdocs/release/1.20.0-notes.html#deprecations\n",
            "  y_train = Y[:].astype(np.int)\n"
          ]
        }
      ],
      "source": [
        "X_train = X[:] / 255.\n",
        "y_train = Y[:].astype(np.int)"
      ]
    },
    {
      "cell_type": "code",
      "source": [
        "# X1 y Y1 o X_test y y_test contienen los datos de Testeo\n",
        "mnist1 = pd.read_csv(\"/content/drive/MyDrive/Datasets/emnist-digits-test.csv\")\n",
        "\n",
        "X1 = mnist1.iloc[:, 1:].values\n",
        "Y1 = mnist1.iloc[:, 0].values.ravel()\n",
        "\n",
        "X_test = X1[:] / 255.\n",
        "y_test = Y1[:].astype(np.int)"
      ],
      "metadata": {
        "colab": {
          "base_uri": "https://localhost:8080/"
        },
        "id": "cmd5x1T5PH-m",
        "outputId": "4c81f55a-ee2b-4b8b-b9d3-35318dd66925"
      },
      "execution_count": null,
      "outputs": [
        {
          "output_type": "stream",
          "name": "stderr",
          "text": [
            "<ipython-input-160-c37f75916302>:8: DeprecationWarning: `np.int` is a deprecated alias for the builtin `int`. To silence this warning, use `int` by itself. Doing this will not modify any behavior and is safe. When replacing `np.int`, you may wish to use e.g. `np.int64` or `np.int32` to specify the precision. If you wish to review your current use, check the release note link for additional information.\n",
            "Deprecated in NumPy 1.20; for more details and guidance: https://numpy.org/devdocs/release/1.20.0-notes.html#deprecations\n",
            "  y_test = Y1[:].astype(np.int)\n"
          ]
        }
      ]
    },
    {
      "cell_type": "code",
      "source": [
        "mnist1.info()"
      ],
      "metadata": {
        "colab": {
          "base_uri": "https://localhost:8080/"
        },
        "id": "_2uB0zRi5sB_",
        "outputId": "eb1e60c9-b846-4872-e024-25da4960d0c9"
      },
      "execution_count": null,
      "outputs": [
        {
          "output_type": "stream",
          "name": "stdout",
          "text": [
            "<class 'pandas.core.frame.DataFrame'>\n",
            "RangeIndex: 39999 entries, 0 to 39998\n",
            "Columns: 785 entries, 0 to 0.481\n",
            "dtypes: int64(785)\n",
            "memory usage: 239.6 MB\n"
          ]
        }
      ]
    },
    {
      "cell_type": "markdown",
      "source": [
        "# Definición de Función de Perdida y Derivada"
      ],
      "metadata": {
        "id": "lVd7olg7GCE0"
      }
    },
    {
      "cell_type": "code",
      "execution_count": 1,
      "metadata": {
        "ExecuteTime": {
          "end_time": "2020-08-15T10:59:44.958737Z",
          "start_time": "2020-08-15T10:59:44.938714Z"
        },
        "hidden": true,
        "id": "D8ySFrd8VThn"
      },
      "outputs": [],
      "source": [
        "def softmax(x):\n",
        "    return torch.exp(x) / torch.exp(x).sum(axis=-1,keepdims=True)\n",
        "\n",
        "def cross_entropy(output, target):\n",
        "    logits = output[torch.arange(len(output)), target]\n",
        "    loss = - logits + torch.log(torch.sum(torch.exp(output), axis=-1))\n",
        "    loss = loss.mean()\n",
        "    return loss"
      ]
    },
    {
      "cell_type": "markdown",
      "source": [
        "# Definición de Capas\n",
        "Contamos con 2 capas ocultas:\n",
        "\n",
        "\n",
        "1.   100 Neuronas\n",
        "2.   20 Neuronas\n",
        "\n"
      ],
      "metadata": {
        "id": "_qv_VwZIGJVT"
      }
    },
    {
      "cell_type": "code",
      "source": [
        "D_in, H1, H2, D_out = 784, 100, 20, 10\n",
        "\n",
        "# pesos del MLP (copiamos en gpu)\n",
        "w1 = torch.tensor(np.random.normal(loc=0.0,\n",
        "          scale = np.sqrt(2/(D_in+H1)),\n",
        "          size = (D_in, H1)), requires_grad=True, device=\"cuda\", dtype=torch.float)\n",
        "b1 = torch.zeros(H1, requires_grad=True, device=\"cuda\", dtype=torch.float)\n",
        "\n",
        "w2 = torch.tensor(np.random.normal(loc=0.0,\n",
        "          scale = np.sqrt(2/(H2+H1)),\n",
        "          size = (H1, H2)), requires_grad=True, device=\"cuda\", dtype=torch.float)\n",
        "b2 = torch.zeros(H2, requires_grad=True, device=\"cuda\", dtype=torch.float)\n",
        "\n",
        "w3 = torch.tensor(np.random.normal(loc=0.0,\n",
        "          scale = np.sqrt(2/(D_out+H2)),\n",
        "          size = (H2, D_out)), requires_grad=True, device=\"cuda\", dtype=torch.float)\n",
        "b3 = torch.zeros(D_out, requires_grad=True, device=\"cuda\", dtype=torch.float)\n",
        "\n",
        "\n",
        "\n",
        "X_t = torch.from_numpy(X_train).float().cuda()\n",
        "Y_t = torch.from_numpy(y_train).long().cuda()\n",
        "\n",
        "epochs = 250\n",
        "lr = 0.7\n",
        "log_each = 10\n",
        "l = []\n",
        "for e in range(1, epochs+1):\n",
        "\n",
        "\n",
        "    h = X_t.mm(w1) + b1\n",
        "    h_relu1 = h.clamp(min=0) # relu\n",
        "\n",
        "    h2 = h_relu1.mm(w2) + b2\n",
        "    h_relu2 = h2.clamp(min=0) # relu\n",
        "\n",
        "    y_pred = h_relu2.mm(w3) + b3\n",
        "\n",
        "    # loss\n",
        "    loss = cross_entropy(y_pred, Y_t)\n",
        "    l.append(loss.item())\n",
        "\n",
        "    # Backprop (calculamos todos los gradientes automáticamente)\n",
        "    loss.backward()\n",
        "\n",
        "    with torch.no_grad():\n",
        "        # update pesos\n",
        "        w1 -= lr * w1.grad\n",
        "        b1 -= lr * b1.grad\n",
        "        w2 -= lr * w2.grad\n",
        "        b2 -= lr * b2.grad\n",
        "        w3 -= lr * w3.grad\n",
        "        b3 -= lr * b3.grad\n",
        "\n",
        "        # ponemos a cero los gradientes para la siguiente iteración\n",
        "        # (sino acumularíamos gradientes)\n",
        "        w1.grad.zero_()\n",
        "        w2.grad.zero_()\n",
        "        w3.grad.zero_()\n",
        "        b1.grad.zero_()\n",
        "        b2.grad.zero_()\n",
        "        b3.grad.zero_()\n",
        "\n",
        "    if not e % log_each:\n",
        "        print(f\"Epoch {e}/{epochs} Loss {np.mean(l):.5f}\")"
      ],
      "metadata": {
        "colab": {
          "base_uri": "https://localhost:8080/"
        },
        "id": "g2-OS52KA-YV",
        "outputId": "450ecb54-d1a8-4f78-b694-5d8290a058ca"
      },
      "execution_count": null,
      "outputs": [
        {
          "output_type": "stream",
          "name": "stdout",
          "text": [
            "Epoch 10/250 Loss 2.47107\n",
            "Epoch 20/250 Loss 2.30412\n",
            "Epoch 30/250 Loss 2.11003\n",
            "Epoch 40/250 Loss 2.02864\n",
            "Epoch 50/250 Loss 1.95208\n",
            "Epoch 60/250 Loss 1.86130\n",
            "Epoch 70/250 Loss 1.73692\n",
            "Epoch 80/250 Loss 1.60948\n",
            "Epoch 90/250 Loss 1.48782\n",
            "Epoch 100/250 Loss 1.37116\n",
            "Epoch 110/250 Loss 1.27705\n",
            "Epoch 120/250 Loss 1.19304\n",
            "Epoch 130/250 Loss 1.13212\n",
            "Epoch 140/250 Loss 1.06747\n",
            "Epoch 150/250 Loss 1.01034\n",
            "Epoch 160/250 Loss 0.95961\n",
            "Epoch 170/250 Loss 0.91429\n",
            "Epoch 180/250 Loss 0.87364\n",
            "Epoch 190/250 Loss 0.84174\n",
            "Epoch 200/250 Loss 0.80837\n",
            "Epoch 210/250 Loss 0.77773\n",
            "Epoch 220/250 Loss 0.74959\n",
            "Epoch 230/250 Loss 0.72368\n",
            "Epoch 240/250 Loss 0.69973\n",
            "Epoch 250/250 Loss 0.67754\n"
          ]
        }
      ]
    },
    {
      "cell_type": "code",
      "source": [
        "y_pred"
      ],
      "metadata": {
        "colab": {
          "base_uri": "https://localhost:8080/"
        },
        "id": "qIjnSETT8ivc",
        "outputId": "3eb5bf34-2125-47d5-b9ed-6a7001eb701a"
      },
      "execution_count": null,
      "outputs": [
        {
          "output_type": "execute_result",
          "data": {
            "text/plain": [
              "tensor([[-4.5927, -3.5253, -2.5690,  ...,  4.9514,  4.3284, 11.9574],\n",
              "        [ 0.2904, -0.9103,  1.3921,  ..., -3.5797,  0.7235, -1.3394],\n",
              "        [ 0.1036,  1.4519, -2.9872,  ..., -4.2249,  2.7677,  1.3055],\n",
              "        ...,\n",
              "        [-2.5465,  4.2938,  2.0935,  ...,  0.7816,  1.5388,  0.6118],\n",
              "        [-3.2174,  5.6500,  0.6260,  ...,  1.5229,  2.8394,  2.1475],\n",
              "        [10.9607, -3.1933,  2.3380,  ..., -2.5494,  1.1285, -0.4456]],\n",
              "       device='cuda:0', grad_fn=<AddBackward0>)"
            ]
          },
          "metadata": {},
          "execution_count": 166
        }
      ]
    },
    {
      "cell_type": "code",
      "execution_count": null,
      "metadata": {
        "ExecuteTime": {
          "end_time": "2020-08-15T11:06:53.644196Z",
          "start_time": "2020-08-15T11:06:53.629168Z"
        },
        "hidden": true,
        "id": "Qq9uGgJeVTho"
      },
      "outputs": [],
      "source": [
        "def evaluate(x):\n",
        "    h = x.mm(w1) + b1\n",
        "    h_relu1 = h.clamp(min=0)\n",
        "    h2 = h_relu1.mm(w2) + b2\n",
        "    h_relu2 = h2.clamp(min=0)\n",
        "    y_pred = h_relu2.mm(w3) + b3\n",
        "    y_probas = softmax(y_pred)\n",
        "    return torch.argmax(y_probas, axis=1)"
      ]
    },
    {
      "cell_type": "code",
      "execution_count": null,
      "metadata": {
        "ExecuteTime": {
          "end_time": "2020-08-15T11:06:53.788142Z",
          "start_time": "2020-08-15T11:06:53.752143Z"
        },
        "hidden": true,
        "id": "PMeYrc1JVTho",
        "outputId": "4eb99691-c8f1-45d9-81da-82ac85d5aa0b",
        "colab": {
          "base_uri": "https://localhost:8080/"
        }
      },
      "outputs": [
        {
          "output_type": "execute_result",
          "data": {
            "text/plain": [
              "0.957623940598515"
            ]
          },
          "metadata": {},
          "execution_count": 168
        }
      ],
      "source": [
        "from sklearn.metrics import accuracy_score\n",
        "\n",
        "y_pred = evaluate(torch.from_numpy(X_test).float().cuda())\n",
        "accuracy_score(y_test, y_pred.cpu().numpy())"
      ]
    },
    {
      "cell_type": "code",
      "source": [
        "X_test.shape"
      ],
      "metadata": {
        "colab": {
          "base_uri": "https://localhost:8080/"
        },
        "id": "Dgb9iySU7-vM",
        "outputId": "81a062f1-3e91-4ee8-eddb-41f5a8795f05"
      },
      "execution_count": null,
      "outputs": [
        {
          "output_type": "execute_result",
          "data": {
            "text/plain": [
              "(39999, 784)"
            ]
          },
          "metadata": {},
          "execution_count": 169
        }
      ]
    },
    {
      "cell_type": "code",
      "source": [
        "Prueba=4161\n",
        "print(y_test[Prueba])\n",
        "print(y_pred[Prueba])"
      ],
      "metadata": {
        "colab": {
          "base_uri": "https://localhost:8080/"
        },
        "id": "ZKFka7XABUl0",
        "outputId": "baf76529-01c3-45da-97dd-a5a8224589e5"
      },
      "execution_count": null,
      "outputs": [
        {
          "output_type": "stream",
          "name": "stdout",
          "text": [
            "2\n",
            "tensor(2, device='cuda:0')\n"
          ]
        }
      ]
    },
    {
      "cell_type": "code",
      "execution_count": null,
      "metadata": {
        "ExecuteTime": {
          "end_time": "2020-08-15T11:06:55.125696Z",
          "start_time": "2020-08-15T11:06:54.779659Z"
        },
        "hidden": true,
        "id": "3rGB6cp6VTho",
        "outputId": "28f66c49-69ba-48a1-adf5-4d0ffd50ff6f",
        "colab": {
          "base_uri": "https://localhost:8080/",
          "height": 608
        }
      },
      "outputs": [
        {
          "output_type": "display_data",
          "data": {
            "text/plain": [
              "<Figure size 1000x600 with 15 Axes>"
            ],
            "image/png": "[encoded data removed]"
          },
          "metadata": {}
        }
      ],
      "source": [
        "r, c = 3, 5\n",
        "fig = plt.figure(figsize=(2*c, 2*r))\n",
        "test_imgs, test_labs = [], []\n",
        "for _r in range(r):\n",
        "    for _c in range(c):\n",
        "        plt.subplot(r, c, _r*c + _c + 1)\n",
        "        ix = random.randint(0, len(X_test)-1)\n",
        "        img = X_test[ix]\n",
        "        y_pred = evaluate(torch.tensor([img]).float().cuda())[0]\n",
        "        plt.imshow(img.reshape(28,28), cmap='gray')\n",
        "        plt.axis(\"off\")\n",
        "        plt.title(f\"{y_test[ix]}/{y_pred}\", color=\"green\" if y_test[ix] == y_pred else \"red\")\n",
        "plt.tight_layout()\n",
        "plt.show()"
      ]
    }
  ]
}